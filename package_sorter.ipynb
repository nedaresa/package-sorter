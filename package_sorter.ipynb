{
 "cells": [
  {
   "cell_type": "code",
   "execution_count": 1,
   "metadata": {},
   "outputs": [
    {
     "name": "stdout",
     "output_type": "stream",
     "text": [
      "bulky & heavy: REJECTED\n",
      "bulky, not heavy: SPECIAL\n",
      "not bulky, heavy: REJECTED\n",
      "heavy, not bulky: REJECTED\n",
      "not bulky, not heavy STANDARD\n"
     ]
    }
   ],
   "source": [
    "def sort(width, height, length, mass):\n",
    "    \"\"\"Sort the packages using the criteria in README.md, return a string\n",
    "    \"\"\"\n",
    "    if width * height * length >= 1000000 or width >= 150 or height >= 150 or length >= 150:\n",
    "        #bulky\n",
    "        if mass >= 20:\n",
    "            #bulky & heavy\n",
    "            return 'REJECTED'\n",
    "        else:\n",
    "            #bulky, not heavy\n",
    "            return 'SPECIAL'\n",
    "    elif mass >= 20:\n",
    "        #heavy, not bulky\n",
    "        return 'REJECTED'\n",
    "    else:\n",
    "        #not bulky, not heavy\n",
    "        return 'STANDARD'\n",
    "\n",
    "#test cases\n",
    "print ('bulky & heavy:',sort(150, 100, 150, 30))\n",
    "print('bulky, not heavy:', sort(150, 100, 150, 10))\n",
    "print('not bulky, heavy:', sort(10, 10, 50, 40))\n",
    "print('heavy, not bulky:', sort(150, 10, 10, 30))\n",
    "print('not bulky, not heavy', sort(50, 10, 10, 10))\n"
   ]
  }
 ],
 "metadata": {
  "kernelspec": {
   "display_name": "ds",
   "language": "python",
   "name": "python3"
  },
  "language_info": {
   "codemirror_mode": {
    "name": "ipython",
    "version": 3
   },
   "file_extension": ".py",
   "mimetype": "text/x-python",
   "name": "python",
   "nbconvert_exporter": "python",
   "pygments_lexer": "ipython3",
   "version": "3.8.16"
  }
 },
 "nbformat": 4,
 "nbformat_minor": 2
}
